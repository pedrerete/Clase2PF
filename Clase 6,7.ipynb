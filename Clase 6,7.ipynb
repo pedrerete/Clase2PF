{
 "cells": [
  {
   "cell_type": "code",
   "execution_count": 15,
   "id": "b9749db4",
   "metadata": {},
   "outputs": [],
   "source": [
    "##Numpy\n",
    "import numpy as np"
   ]
  },
  {
   "cell_type": "code",
   "execution_count": 11,
   "id": "03082712",
   "metadata": {},
   "outputs": [
    {
     "data": {
      "text/plain": [
       "array([ 2,  4,  6,  8, 10, 12, 14])"
      ]
     },
     "execution_count": 11,
     "metadata": {},
     "output_type": "execute_result"
    }
   ],
   "source": [
    "##matrices\n",
    "\n",
    "matriz = np.arange(2,15,2)\n",
    "matriz"
   ]
  },
  {
   "cell_type": "code",
   "execution_count": 10,
   "id": "41ed6922",
   "metadata": {},
   "outputs": [
    {
     "data": {
      "text/plain": [
       "array([3, 4, 5, 6, 7, 8, 9])"
      ]
     },
     "execution_count": 10,
     "metadata": {},
     "output_type": "execute_result"
    }
   ],
   "source": [
    "matriz2 = np.arange(3,10,1)\n",
    "matriz2"
   ]
  },
  {
   "cell_type": "code",
   "execution_count": 13,
   "id": "ff749e31",
   "metadata": {},
   "outputs": [
    {
     "data": {
      "text/plain": [
       "array([[ 2,  4,  6,  8, 10, 12, 14],\n",
       "       [ 3,  4,  5,  6,  7,  8,  9]])"
      ]
     },
     "execution_count": 13,
     "metadata": {},
     "output_type": "execute_result"
    }
   ],
   "source": [
    "matrizdoble = np.array([matriz,matriz2])\n",
    "matrizdoble"
   ]
  },
  {
   "cell_type": "code",
   "execution_count": 16,
   "id": "dfa928a6",
   "metadata": {},
   "outputs": [
    {
     "data": {
      "text/plain": [
       "array([[ 1,  2,  3,  4,  5],\n",
       "       [ 6,  7,  8,  9, 10],\n",
       "       [11, 12, 13, 14, 15],\n",
       "       [16, 17, 18, 19, 20],\n",
       "       [21, 22, 23, 24, 25]])"
      ]
     },
     "execution_count": 16,
     "metadata": {},
     "output_type": "execute_result"
    }
   ],
   "source": [
    "h=np.reshape(np.array(range(1,26)),(5,5))\n",
    "h"
   ]
  },
  {
   "cell_type": "markdown",
   "id": "1f5547e9",
   "metadata": {},
   "source": [
    "# Actividad lunes 5 septiembre(clase 6)"
   ]
  },
  {
   "cell_type": "code",
   "execution_count": 17,
   "id": "384946f8",
   "metadata": {},
   "outputs": [
    {
     "data": {
      "text/plain": [
       "array([[0, 1, 2],\n",
       "       [3, 4, 5],\n",
       "       [6, 7, 8]])"
      ]
     },
     "execution_count": 17,
     "metadata": {},
     "output_type": "execute_result"
    }
   ],
   "source": [
    "actMatriz=np.reshape(np.array(range(0,9)),(3,3))\n",
    "actMatriz"
   ]
  },
  {
   "cell_type": "code",
   "execution_count": 19,
   "id": "b659972f",
   "metadata": {},
   "outputs": [
    {
     "data": {
      "text/plain": [
       "array([[1., 0., 0., 0., 0., 0.],\n",
       "       [0., 1., 0., 0., 0., 0.],\n",
       "       [0., 0., 1., 0., 0., 0.],\n",
       "       [0., 0., 0., 1., 0., 0.],\n",
       "       [0., 0., 0., 0., 1., 0.],\n",
       "       [0., 0., 0., 0., 0., 1.]])"
      ]
     },
     "execution_count": 19,
     "metadata": {},
     "output_type": "execute_result"
    }
   ],
   "source": [
    "actIdentity=np.identity(6)\n",
    "actIdentity"
   ]
  },
  {
   "cell_type": "code",
   "execution_count": 1,
   "id": "5c59985d",
   "metadata": {},
   "outputs": [
    {
     "data": {
      "text/plain": [
       "12.0"
      ]
     },
     "execution_count": 1,
     "metadata": {},
     "output_type": "execute_result"
    }
   ],
   "source": [
    "##condicionantes y iperaciones clase 7\n",
    "#el doble de mi edad es 24, cuantos años tengo?\n",
    "x = 24/2\n",
    "x"
   ]
  },
  {
   "cell_type": "markdown",
   "id": "82f79faa",
   "metadata": {},
   "source": [
    "# Actividades 6 septiembre(Clase7)"
   ]
  },
  {
   "cell_type": "code",
   "execution_count": 14,
   "id": "5c1e492e",
   "metadata": {},
   "outputs": [
    {
     "name": "stdout",
     "output_type": "stream",
     "text": [
      "y es mayor\n"
     ]
    }
   ],
   "source": [
    "#un tercio de la edad de mi hermana la diminuyo en 15, tengo 6 años, que edad tenia?\n",
    "#x-15 = 6\n",
    "x = 6\n",
    "y = (15+x)*3\n",
    "#quien es mayor?\n",
    "x_mayor = x > y\n",
    "if(x_mayor):\n",
    "    print(\"x es mayor\")\n",
    "else:\n",
    "    print(\"y es mayor\")"
   ]
  },
  {
   "cell_type": "code",
   "execution_count": 16,
   "id": "b2f6d629",
   "metadata": {},
   "outputs": [
    {
     "data": {
      "text/plain": [
       "array([1, 2, 3, 4, 5, 6, 7])"
      ]
     },
     "execution_count": 16,
     "metadata": {},
     "output_type": "execute_result"
    }
   ],
   "source": [
    "#Mascara\n",
    "a=np.array([1,2,3,4,5,6,7])\n",
    "a"
   ]
  },
  {
   "cell_type": "code",
   "execution_count": 17,
   "id": "c9943050",
   "metadata": {},
   "outputs": [
    {
     "data": {
      "text/plain": [
       "array([False, False, False,  True,  True,  True,  True])"
      ]
     },
     "execution_count": 17,
     "metadata": {},
     "output_type": "execute_result"
    }
   ],
   "source": [
    "mascara = a>3\n",
    "mascara"
   ]
  },
  {
   "cell_type": "code",
   "execution_count": 24,
   "id": "2755f98a",
   "metadata": {},
   "outputs": [],
   "source": []
  },
  {
   "cell_type": "code",
   "execution_count": 26,
   "id": "564888c7",
   "metadata": {},
   "outputs": [
    {
     "name": "stdout",
     "output_type": "stream",
     "text": [
      "1\n"
     ]
    }
   ],
   "source": [
    "#condicionantes y ciclos\n",
    "a=1\n",
    "if a==3:\n",
    "    a=a*3\n",
    "    print(a)\n",
    "elif a>10:\n",
    "    a%=2\n",
    "    print(a)\n",
    "else:\n",
    "    print(a)\n"
   ]
  },
  {
   "cell_type": "code",
   "execution_count": null,
   "id": "df7b5d58",
   "metadata": {},
   "outputs": [],
   "source": [
    "animales = [\"animal1\",\"animal2\",\"animal3\",\"animal4\",\"animal5\",\"animal6\",]\n"
   ]
  },
  {
   "cell_type": "code",
   "execution_count": 39,
   "id": "29dd1aaa",
   "metadata": {
    "collapsed": true
   },
   "outputs": [
    {
     "name": "stdout",
     "output_type": "stream",
     "text": [
      "Escribe la mayoria de edad, numero entero22\n",
      "Con 10 años, eres menor de edad\n",
      "Con 20 años, eres menor de edad\n",
      "Con 30 años, eres MAYOR de edad\n",
      "Con 15 años, eres menor de edad\n",
      "Con 18 años, eres menor de edad\n",
      "Con 17 años, eres menor de edad\n",
      "Con 22 años, eres MAYOR de edad\n",
      "Con 21 años, eres menor de edad\n"
     ]
    }
   ],
   "source": [
    "#actividad 8\n",
    "#Operaciones Edad\n",
    "edades = [10,20,30,15,18,17,22,21]\n",
    "mayoria = int(input(\"Escribe la mayoria de edad, numero entero\"))\n",
    "for edad in edades:\n",
    "    if(edad>=mayoria):\n",
    "        print(\"Con\", edad, \"años, eres MAYOR de edad\")\n",
    "    else:\n",
    "        print(\"Con\", edad, \"años, eres menor de edad\")"
   ]
  },
  {
   "cell_type": "code",
   "execution_count": 45,
   "id": "c429fb05",
   "metadata": {},
   "outputs": [
    {
     "name": "stdout",
     "output_type": "stream",
     "text": [
      "Escribe el numero1, numero entero7\n",
      "Escribe el numero2, numero entero6\n",
      "6 es menor\n"
     ]
    }
   ],
   "source": [
    "#actividad 9\n",
    "#cual numero es menor\n",
    "num1 = int(input(\"Escribe el numero1, numero entero\"))\n",
    "num2 = int(input(\"Escribe el numero2, numero entero\"))\n",
    "if(num1>num2):\n",
    "    print(num2, \"es menor\")\n",
    "elif(num2>num1):\n",
    "    print(num1, \"es menor\")\n",
    "else:\n",
    "    print(\"los dos numeros son iguales:\", num1, \"y\",num2)"
   ]
  }
 ],
 "metadata": {
  "kernelspec": {
   "display_name": "Python 3",
   "language": "python",
   "name": "python3"
  },
  "language_info": {
   "codemirror_mode": {
    "name": "ipython",
    "version": 3
   },
   "file_extension": ".py",
   "mimetype": "text/x-python",
   "name": "python",
   "nbconvert_exporter": "python",
   "pygments_lexer": "ipython3",
   "version": "3.6.13"
  }
 },
 "nbformat": 4,
 "nbformat_minor": 5
}
