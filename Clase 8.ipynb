{
 "cells": [
  {
   "cell_type": "markdown",
   "id": "f8e09c50",
   "metadata": {},
   "source": [
    "# Clase 8 Miercoles 7 Septiembre "
   ]
  },
  {
   "cell_type": "code",
   "execution_count": 2,
   "id": "f8698cdd",
   "metadata": {},
   "outputs": [
    {
     "name": "stdout",
     "output_type": "stream",
     "text": [
      "1\n",
      "2\n",
      "3\n",
      "4\n",
      "5\n",
      "6\n",
      "7\n"
     ]
    }
   ],
   "source": [
    "#ciclos\n",
    "numeros = [1,2,3,4,5,6,7]\n",
    "for n in numeros:\n",
    "    print (n)"
   ]
  },
  {
   "cell_type": "code",
   "execution_count": 10,
   "id": "27d5bf67",
   "metadata": {},
   "outputs": [
    {
     "name": "stdout",
     "output_type": "stream",
     "text": [
      "A\n",
      "B\n",
      "C\n",
      "2\n",
      "3\n",
      "4\n",
      "A 2\n",
      "B 3\n",
      "C 4\n"
     ]
    }
   ],
   "source": [
    "dic = {'A':2,'B':3,'C':4}\n",
    "#imprimir keys\n",
    "for k in dic:\n",
    "    print (k)\n",
    "#imprimir values\n",
    "for k in dic.values():\n",
    "    print (k)\n",
    "#imprimir key e item\n",
    "for k,v in dic.items():\n",
    "    print (k, v)"
   ]
  },
  {
   "cell_type": "code",
   "execution_count": 3,
   "id": "25645961",
   "metadata": {},
   "outputs": [
    {
     "name": "stdout",
     "output_type": "stream",
     "text": [
      "Miguel 18\n",
      "Edwin 23\n",
      "Pedro 16\n",
      "Marco 25\n",
      "Gerardo 9\n",
      "Claudia 21\n",
      "Roland 25\n",
      "Paco 13\n",
      "Yolanda 4\n",
      "Paulina 25\n",
      "El numero menor es 4 y el numero maximo es 25\n"
     ]
    }
   ],
   "source": [
    "#actividad\n",
    "#ciclos en un grupo\n",
    "max = 0\n",
    "min = 999\n",
    "dic = {\"Miguel\":18 ,\"Edwin\":23 ,\"Pedro\": 16,\"Marco\": 25,\"Gerardo\": 9,\"Claudia\":21 ,\"Roland\": 25,\"Paco\": 13,\"Yolanda\": 4,\"Paulina\":25}\n",
    "for k,v in dic.items():\n",
    "    print (k, v)\n",
    "    if(v>max):\n",
    "        max = v\n",
    "    if(v<min):\n",
    "        min=v;\n",
    "print(\"El numero menor es\", min, \"y el numero maximo es\", max)"
   ]
  },
  {
   "cell_type": "code",
   "execution_count": 6,
   "id": "576e9b02",
   "metadata": {},
   "outputs": [
    {
     "name": "stdout",
     "output_type": "stream",
     "text": [
      "1\n",
      "2\n",
      "3\n",
      "4\n",
      "11\n"
     ]
    }
   ],
   "source": [
    "#While\n",
    "numero = (int(input(\"Dame un numero\")))\n",
    "while(numero<10):\n",
    "    print(numero)\n",
    "    numero = (int(input(\"Dame otro numero\")))\n",
    "print(numero)"
   ]
  },
  {
   "cell_type": "code",
   "execution_count": 7,
   "id": "6ab5865c",
   "metadata": {},
   "outputs": [
    {
     "name": "stdout",
     "output_type": "stream",
     "text": [
      "26\n"
     ]
    }
   ],
   "source": [
    "#calculadora\n",
    "num1 = 1\n",
    "num2 = 1\n",
    "suma = 0\n",
    "while (num1<10):\n",
    "    suma = suma + num2\n",
    "    num1 = num1 *2\n",
    "    num2 = num2 + num1\n",
    "print(suma)"
   ]
  },
  {
   "cell_type": "code",
   "execution_count": 8,
   "id": "70ffc4cb",
   "metadata": {},
   "outputs": [
    {
     "name": "stdout",
     "output_type": "stream",
     "text": [
      "ingresa la nota del estudiante, -1 para salir\n",
      "El promedio es 60.0\n"
     ]
    }
   ],
   "source": [
    "#sumar notas\n",
    "total  = 0\n",
    "conteo = 0\n",
    "print(\"ingresa la nota del estudiante, -1 para salir\")\n",
    "grado  = float(input())\n",
    "while (grado!= -1):\n",
    "    total = total + grado\n",
    "    conteo = conteo +1\n",
    "    grado = float(input(\"ingresa la nota del estudiante, -1 para salir\"))\n",
    "promedio = total/conteo\n",
    "print(\"El promedio es\", promedio)"
   ]
  },
  {
   "cell_type": "code",
   "execution_count": null,
   "id": "7810d808",
   "metadata": {},
   "outputs": [],
   "source": []
  }
 ],
 "metadata": {
  "kernelspec": {
   "display_name": "Python 3.6.13 ('python_fundamentals')",
   "language": "python",
   "name": "python3"
  },
  "language_info": {
   "codemirror_mode": {
    "name": "ipython",
    "version": 3
   },
   "file_extension": ".py",
   "mimetype": "text/x-python",
   "name": "python",
   "nbconvert_exporter": "python",
   "pygments_lexer": "ipython3",
   "version": "3.6.13"
  },
  "vscode": {
   "interpreter": {
    "hash": "7e81c2e367518bbb0112c35d00387cbdac47bc4c8478dc0a2040d176b2b897ff"
   }
  }
 },
 "nbformat": 4,
 "nbformat_minor": 5
}
