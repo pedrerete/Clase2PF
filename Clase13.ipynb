{
 "cells": [
  {
   "cell_type": "code",
   "execution_count": 3,
   "id": "ebedcdbf",
   "metadata": {},
   "outputs": [],
   "source": [
    "#Clase 13\n",
    "import pandas as pd\n",
    "import numpy as np\n",
    "import matplotlib"
   ]
  },
  {
   "cell_type": "code",
   "execution_count": 4,
   "id": "0e36a291",
   "metadata": {},
   "outputs": [],
   "source": [
    "dict1 = {\n",
    "    \"nombre\" : [\"Pedro\",\"Esparza\",\"Garcia\"],\n",
    "    \"edad\":[1,2,3],\n",
    "    \"Salario\":[1000,2000,3000],\n",
    "    \"Genero\":[\"N\",\"M\",\"A\"]\n",
    "}"
   ]
  },
  {
   "cell_type": "code",
   "execution_count": 3,
   "id": "9ee0032f",
   "metadata": {},
   "outputs": [],
   "source": [
    "data = pd.DataFrame(dict1)"
   ]
  },
  {
   "cell_type": "code",
   "execution_count": 4,
   "id": "ea3a0e45",
   "metadata": {},
   "outputs": [
    {
     "data": {
      "text/plain": [
       "array([[<AxesSubplot:title={'center':'edad'}>,\n",
       "        <AxesSubplot:title={'center':'Salario'}>]], dtype=object)"
      ]
     },
     "execution_count": 4,
     "metadata": {},
     "output_type": "execute_result"
    },
    {
     "data": {
      "image/png": "[encoded data removed]",
      "text/plain": [
       "<Figure size 432x288 with 2 Axes>"
      ]
     },
     "metadata": {
      "needs_background": "light"
     },
     "output_type": "display_data"
    }
   ],
   "source": [
    "data.hist()"
   ]
  },
  {
   "cell_type": "code",
   "execution_count": 5,
   "id": "93b7bcc8",
   "metadata": {},
   "outputs": [
    {
     "data": {
      "text/html": [
       "<div>\n",
       "<style scoped>\n",
       "    .dataframe tbody tr th:only-of-type {\n",
       "        vertical-align: middle;\n",
       "    }\n",
       "\n",
       "    .dataframe tbody tr th {\n",
       "        vertical-align: top;\n",
       "    }\n",
       "\n",
       "    .dataframe thead th {\n",
       "        text-align: right;\n",
       "    }\n",
       "</style>\n",
       "<table border=\"1\" class=\"dataframe\">\n",
       "  <thead>\n",
       "    <tr style=\"text-align: right;\">\n",
       "      <th></th>\n",
       "      <th>ID</th>\n",
       "      <th>Name</th>\n",
       "      <th>Sex</th>\n",
       "      <th>Age</th>\n",
       "      <th>Height</th>\n",
       "      <th>Weight</th>\n",
       "      <th>Team</th>\n",
       "      <th>NOC</th>\n",
       "      <th>Games</th>\n",
       "      <th>Year</th>\n",
       "      <th>Season</th>\n",
       "      <th>City</th>\n",
       "      <th>Sport</th>\n",
       "      <th>Event</th>\n",
       "      <th>Medal</th>\n",
       "    </tr>\n",
       "  </thead>\n",
       "  <tbody>\n",
       "    <tr>\n",
       "      <th>0</th>\n",
       "      <td>1</td>\n",
       "      <td>A Dijiang</td>\n",
       "      <td>M</td>\n",
       "      <td>24.0</td>\n",
       "      <td>180.0</td>\n",
       "      <td>80.0</td>\n",
       "      <td>China</td>\n",
       "      <td>CHN</td>\n",
       "      <td>1992 Summer</td>\n",
       "      <td>1992</td>\n",
       "      <td>Summer</td>\n",
       "      <td>Barcelona</td>\n",
       "      <td>Basketball</td>\n",
       "      <td>Basketball Men's Basketball</td>\n",
       "      <td>NaN</td>\n",
       "    </tr>\n",
       "    <tr>\n",
       "      <th>1</th>\n",
       "      <td>2</td>\n",
       "      <td>A Lamusi</td>\n",
       "      <td>M</td>\n",
       "      <td>23.0</td>\n",
       "      <td>170.0</td>\n",
       "      <td>60.0</td>\n",
       "      <td>China</td>\n",
       "      <td>CHN</td>\n",
       "      <td>2012 Summer</td>\n",
       "      <td>2012</td>\n",
       "      <td>Summer</td>\n",
       "      <td>London</td>\n",
       "      <td>Judo</td>\n",
       "      <td>Judo Men's Extra-Lightweight</td>\n",
       "      <td>NaN</td>\n",
       "    </tr>\n",
       "    <tr>\n",
       "      <th>2</th>\n",
       "      <td>3</td>\n",
       "      <td>Gunnar Nielsen Aaby</td>\n",
       "      <td>M</td>\n",
       "      <td>24.0</td>\n",
       "      <td>NaN</td>\n",
       "      <td>NaN</td>\n",
       "      <td>Denmark</td>\n",
       "      <td>DEN</td>\n",
       "      <td>1920 Summer</td>\n",
       "      <td>1920</td>\n",
       "      <td>Summer</td>\n",
       "      <td>Antwerpen</td>\n",
       "      <td>Football</td>\n",
       "      <td>Football Men's Football</td>\n",
       "      <td>NaN</td>\n",
       "    </tr>\n",
       "    <tr>\n",
       "      <th>3</th>\n",
       "      <td>4</td>\n",
       "      <td>Edgar Lindenau Aabye</td>\n",
       "      <td>M</td>\n",
       "      <td>34.0</td>\n",
       "      <td>NaN</td>\n",
       "      <td>NaN</td>\n",
       "      <td>Denmark/Sweden</td>\n",
       "      <td>DEN</td>\n",
       "      <td>1900 Summer</td>\n",
       "      <td>1900</td>\n",
       "      <td>Summer</td>\n",
       "      <td>Paris</td>\n",
       "      <td>Tug-Of-War</td>\n",
       "      <td>Tug-Of-War Men's Tug-Of-War</td>\n",
       "      <td>Gold</td>\n",
       "    </tr>\n",
       "    <tr>\n",
       "      <th>4</th>\n",
       "      <td>5</td>\n",
       "      <td>Christine Jacoba Aaftink</td>\n",
       "      <td>F</td>\n",
       "      <td>21.0</td>\n",
       "      <td>185.0</td>\n",
       "      <td>82.0</td>\n",
       "      <td>Netherlands</td>\n",
       "      <td>NED</td>\n",
       "      <td>1988 Winter</td>\n",
       "      <td>1988</td>\n",
       "      <td>Winter</td>\n",
       "      <td>Calgary</td>\n",
       "      <td>Speed Skating</td>\n",
       "      <td>Speed Skating Women's 500 metres</td>\n",
       "      <td>NaN</td>\n",
       "    </tr>\n",
       "  </tbody>\n",
       "</table>\n",
       "</div>"
      ],
      "text/plain": [
       "   ID                      Name Sex   Age  Height  Weight            Team  \\\n",
       "0   1                 A Dijiang   M  24.0   180.0    80.0           China   \n",
       "1   2                  A Lamusi   M  23.0   170.0    60.0           China   \n",
       "2   3       Gunnar Nielsen Aaby   M  24.0     NaN     NaN         Denmark   \n",
       "3   4      Edgar Lindenau Aabye   M  34.0     NaN     NaN  Denmark/Sweden   \n",
       "4   5  Christine Jacoba Aaftink   F  21.0   185.0    82.0     Netherlands   \n",
       "\n",
       "   NOC        Games  Year  Season       City          Sport  \\\n",
       "0  CHN  1992 Summer  1992  Summer  Barcelona     Basketball   \n",
       "1  CHN  2012 Summer  2012  Summer     London           Judo   \n",
       "2  DEN  1920 Summer  1920  Summer  Antwerpen       Football   \n",
       "3  DEN  1900 Summer  1900  Summer      Paris     Tug-Of-War   \n",
       "4  NED  1988 Winter  1988  Winter    Calgary  Speed Skating   \n",
       "\n",
       "                              Event Medal  \n",
       "0       Basketball Men's Basketball   NaN  \n",
       "1      Judo Men's Extra-Lightweight   NaN  \n",
       "2           Football Men's Football   NaN  \n",
       "3       Tug-Of-War Men's Tug-Of-War  Gold  \n",
       "4  Speed Skating Women's 500 metres   NaN  "
      ]
     },
     "execution_count": 5,
     "metadata": {},
     "output_type": "execute_result"
    }
   ],
   "source": [
    "df = pd.read_csv(\"C:\\\\Users\\\\pesparza\\\\Desktop\\\\Curso Python\\\\Files\\\\athlete_events.csv\")\n",
    "df.head()"
   ]
  },
  {
   "cell_type": "code",
   "execution_count": 6,
   "id": "87b07bc4",
   "metadata": {},
   "outputs": [
    {
     "data": {
      "text/plain": [
       "<AxesSubplot:>"
      ]
     },
     "execution_count": 6,
     "metadata": {},
     "output_type": "execute_result"
    },
    {
     "data": {
      "image/png": "[encoded data removed]",
      "text/plain": [
       "<Figure size 432x288 with 1 Axes>"
      ]
     },
     "metadata": {
      "needs_background": "light"
     },
     "output_type": "display_data"
    }
   ],
   "source": [
    "#Top paises con mas medallas.\n",
    "df_medal = df[~df[\"Medal\"].isna()] #filtramos los que si ganaron medallas\n",
    "df_medalleros = df_medal[['NOC','Year']] ##solo el pais, año\n",
    "df_medalleros['NOC'].value_counts().head(10).plot(kind='bar')#graficamos"
   ]
  },
  {
   "cell_type": "code",
   "execution_count": 14,
   "id": "64e386d2",
   "metadata": {},
   "outputs": [
    {
     "data": {
      "text/html": [
       "<div>\n",
       "<style scoped>\n",
       "    .dataframe tbody tr th:only-of-type {\n",
       "        vertical-align: middle;\n",
       "    }\n",
       "\n",
       "    .dataframe tbody tr th {\n",
       "        vertical-align: top;\n",
       "    }\n",
       "\n",
       "    .dataframe thead th {\n",
       "        text-align: right;\n",
       "    }\n",
       "</style>\n",
       "<table border=\"1\" class=\"dataframe\">\n",
       "  <thead>\n",
       "    <tr style=\"text-align: right;\">\n",
       "      <th></th>\n",
       "      <th></th>\n",
       "      <th></th>\n",
       "      <th>ID</th>\n",
       "      <th>Age</th>\n",
       "      <th>Height</th>\n",
       "      <th>Weight</th>\n",
       "    </tr>\n",
       "    <tr>\n",
       "      <th>Year</th>\n",
       "      <th>Medal</th>\n",
       "      <th>Season</th>\n",
       "      <th></th>\n",
       "      <th></th>\n",
       "      <th></th>\n",
       "      <th></th>\n",
       "    </tr>\n",
       "  </thead>\n",
       "  <tbody>\n",
       "    <tr>\n",
       "      <th rowspan=\"3\" valign=\"top\">1896</th>\n",
       "      <th>Bronze</th>\n",
       "      <th>Summer</th>\n",
       "      <td>2877354</td>\n",
       "      <td>454.0</td>\n",
       "      <td>512.0</td>\n",
       "      <td>197.0</td>\n",
       "    </tr>\n",
       "    <tr>\n",
       "      <th>Gold</th>\n",
       "      <th>Summer</th>\n",
       "      <td>3938344</td>\n",
       "      <td>1198.0</td>\n",
       "      <td>2277.0</td>\n",
       "      <td>938.0</td>\n",
       "    </tr>\n",
       "    <tr>\n",
       "      <th>Silver</th>\n",
       "      <th>Summer</th>\n",
       "      <td>2963033</td>\n",
       "      <td>693.0</td>\n",
       "      <td>1079.0</td>\n",
       "      <td>461.0</td>\n",
       "    </tr>\n",
       "    <tr>\n",
       "      <th rowspan=\"2\" valign=\"top\">1900</th>\n",
       "      <th>Bronze</th>\n",
       "      <th>Summer</th>\n",
       "      <td>11983058</td>\n",
       "      <td>3749.0</td>\n",
       "      <td>2861.0</td>\n",
       "      <td>742.0</td>\n",
       "    </tr>\n",
       "    <tr>\n",
       "      <th>Gold</th>\n",
       "      <th>Summer</th>\n",
       "      <td>11762699</td>\n",
       "      <td>5044.0</td>\n",
       "      <td>4790.0</td>\n",
       "      <td>1530.0</td>\n",
       "    </tr>\n",
       "    <tr>\n",
       "      <th>...</th>\n",
       "      <th>...</th>\n",
       "      <th>...</th>\n",
       "      <td>...</td>\n",
       "      <td>...</td>\n",
       "      <td>...</td>\n",
       "      <td>...</td>\n",
       "    </tr>\n",
       "    <tr>\n",
       "      <th rowspan=\"2\" valign=\"top\">2014</th>\n",
       "      <th>Gold</th>\n",
       "      <th>Winter</th>\n",
       "      <td>14776154</td>\n",
       "      <td>5402.0</td>\n",
       "      <td>35655.0</td>\n",
       "      <td>13970.0</td>\n",
       "    </tr>\n",
       "    <tr>\n",
       "      <th>Silver</th>\n",
       "      <th>Winter</th>\n",
       "      <td>14208902</td>\n",
       "      <td>5232.0</td>\n",
       "      <td>34442.0</td>\n",
       "      <td>13683.0</td>\n",
       "    </tr>\n",
       "    <tr>\n",
       "      <th rowspan=\"3\" valign=\"top\">2016</th>\n",
       "      <th>Bronze</th>\n",
       "      <th>Summer</th>\n",
       "      <td>49010483</td>\n",
       "      <td>18337.0</td>\n",
       "      <td>124698.0</td>\n",
       "      <td>51578.0</td>\n",
       "    </tr>\n",
       "    <tr>\n",
       "      <th>Gold</th>\n",
       "      <th>Summer</th>\n",
       "      <td>46822555</td>\n",
       "      <td>17633.0</td>\n",
       "      <td>118864.0</td>\n",
       "      <td>49311.0</td>\n",
       "    </tr>\n",
       "    <tr>\n",
       "      <th>Silver</th>\n",
       "      <th>Summer</th>\n",
       "      <td>45041943</td>\n",
       "      <td>17286.0</td>\n",
       "      <td>116747.0</td>\n",
       "      <td>48144.0</td>\n",
       "    </tr>\n",
       "  </tbody>\n",
       "</table>\n",
       "<p>153 rows × 4 columns</p>\n",
       "</div>"
      ],
      "text/plain": [
       "                          ID      Age    Height   Weight\n",
       "Year Medal  Season                                      \n",
       "1896 Bronze Summer   2877354    454.0     512.0    197.0\n",
       "     Gold   Summer   3938344   1198.0    2277.0    938.0\n",
       "     Silver Summer   2963033    693.0    1079.0    461.0\n",
       "1900 Bronze Summer  11983058   3749.0    2861.0    742.0\n",
       "     Gold   Summer  11762699   5044.0    4790.0   1530.0\n",
       "...                      ...      ...       ...      ...\n",
       "2014 Gold   Winter  14776154   5402.0   35655.0  13970.0\n",
       "     Silver Winter  14208902   5232.0   34442.0  13683.0\n",
       "2016 Bronze Summer  49010483  18337.0  124698.0  51578.0\n",
       "     Gold   Summer  46822555  17633.0  118864.0  49311.0\n",
       "     Silver Summer  45041943  17286.0  116747.0  48144.0\n",
       "\n",
       "[153 rows x 4 columns]"
      ]
     },
     "execution_count": 14,
     "metadata": {},
     "output_type": "execute_result"
    }
   ],
   "source": [
    "agrupado = df_medal.groupby(['Year','Medal','Season']).sum()\n",
    "agrupado"
   ]
  },
  {
   "cell_type": "code",
   "execution_count": 17,
   "id": "3d3848ab",
   "metadata": {},
   "outputs": [
    {
     "data": {
      "text/html": [
       "<style  type=\"text/css\" >\n",
       "#T_4e3fb0da_3436_11ed_83e7_40ec99d0cc93row0_col0,#T_4e3fb0da_3436_11ed_83e7_40ec99d0cc93row1_col1,#T_4e3fb0da_3436_11ed_83e7_40ec99d0cc93row2_col2,#T_4e3fb0da_3436_11ed_83e7_40ec99d0cc93row3_col3{\n",
       "            background-color:  #fde725;\n",
       "            color:  #000000;\n",
       "        }#T_4e3fb0da_3436_11ed_83e7_40ec99d0cc93row0_col1{\n",
       "            background-color:  #e2e418;\n",
       "            color:  #000000;\n",
       "        }#T_4e3fb0da_3436_11ed_83e7_40ec99d0cc93row0_col2,#T_4e3fb0da_3436_11ed_83e7_40ec99d0cc93row0_col3{\n",
       "            background-color:  #443b84;\n",
       "            color:  #f1f1f1;\n",
       "        }#T_4e3fb0da_3436_11ed_83e7_40ec99d0cc93row1_col0{\n",
       "            background-color:  #dde318;\n",
       "            color:  #000000;\n",
       "        }#T_4e3fb0da_3436_11ed_83e7_40ec99d0cc93row1_col2,#T_4e3fb0da_3436_11ed_83e7_40ec99d0cc93row1_col3,#T_4e3fb0da_3436_11ed_83e7_40ec99d0cc93row3_col0,#T_4e3fb0da_3436_11ed_83e7_40ec99d0cc93row3_col1{\n",
       "            background-color:  #440154;\n",
       "            color:  #f1f1f1;\n",
       "        }#T_4e3fb0da_3436_11ed_83e7_40ec99d0cc93row2_col0,#T_4e3fb0da_3436_11ed_83e7_40ec99d0cc93row2_col1{\n",
       "            background-color:  #481f70;\n",
       "            color:  #f1f1f1;\n",
       "        }#T_4e3fb0da_3436_11ed_83e7_40ec99d0cc93row2_col3,#T_4e3fb0da_3436_11ed_83e7_40ec99d0cc93row3_col2{\n",
       "            background-color:  #f6e620;\n",
       "            color:  #000000;\n",
       "        }</style><table id=\"T_4e3fb0da_3436_11ed_83e7_40ec99d0cc93\" ><thead>    <tr>        <th class=\"blank level0\" ></th>        <th class=\"col_heading level0 col0\" >ID</th>        <th class=\"col_heading level0 col1\" >Age</th>        <th class=\"col_heading level0 col2\" >Height</th>        <th class=\"col_heading level0 col3\" >Weight</th>    </tr></thead><tbody>\n",
       "                <tr>\n",
       "                        <th id=\"T_4e3fb0da_3436_11ed_83e7_40ec99d0cc93level0_row0\" class=\"row_heading level0 row0\" >ID</th>\n",
       "                        <td id=\"T_4e3fb0da_3436_11ed_83e7_40ec99d0cc93row0_col0\" class=\"data row0 col0\" >1.000000</td>\n",
       "                        <td id=\"T_4e3fb0da_3436_11ed_83e7_40ec99d0cc93row0_col1\" class=\"data row0 col1\" >0.995713</td>\n",
       "                        <td id=\"T_4e3fb0da_3436_11ed_83e7_40ec99d0cc93row0_col2\" class=\"data row0 col2\" >0.927331</td>\n",
       "                        <td id=\"T_4e3fb0da_3436_11ed_83e7_40ec99d0cc93row0_col3\" class=\"data row0 col3\" >0.920600</td>\n",
       "            </tr>\n",
       "            <tr>\n",
       "                        <th id=\"T_4e3fb0da_3436_11ed_83e7_40ec99d0cc93level0_row1\" class=\"row_heading level0 row1\" >Age</th>\n",
       "                        <td id=\"T_4e3fb0da_3436_11ed_83e7_40ec99d0cc93row1_col0\" class=\"data row1 col0\" >0.995713</td>\n",
       "                        <td id=\"T_4e3fb0da_3436_11ed_83e7_40ec99d0cc93row1_col1\" class=\"data row1 col1\" >1.000000</td>\n",
       "                        <td id=\"T_4e3fb0da_3436_11ed_83e7_40ec99d0cc93row1_col2\" class=\"data row1 col2\" >0.912018</td>\n",
       "                        <td id=\"T_4e3fb0da_3436_11ed_83e7_40ec99d0cc93row1_col3\" class=\"data row1 col3\" >0.903989</td>\n",
       "            </tr>\n",
       "            <tr>\n",
       "                        <th id=\"T_4e3fb0da_3436_11ed_83e7_40ec99d0cc93level0_row2\" class=\"row_heading level0 row2\" >Height</th>\n",
       "                        <td id=\"T_4e3fb0da_3436_11ed_83e7_40ec99d0cc93row2_col0\" class=\"data row2 col0\" >0.927331</td>\n",
       "                        <td id=\"T_4e3fb0da_3436_11ed_83e7_40ec99d0cc93row2_col1\" class=\"data row2 col1\" >0.912018</td>\n",
       "                        <td id=\"T_4e3fb0da_3436_11ed_83e7_40ec99d0cc93row2_col2\" class=\"data row2 col2\" >1.000000</td>\n",
       "                        <td id=\"T_4e3fb0da_3436_11ed_83e7_40ec99d0cc93row2_col3\" class=\"data row2 col3\" >0.998758</td>\n",
       "            </tr>\n",
       "            <tr>\n",
       "                        <th id=\"T_4e3fb0da_3436_11ed_83e7_40ec99d0cc93level0_row3\" class=\"row_heading level0 row3\" >Weight</th>\n",
       "                        <td id=\"T_4e3fb0da_3436_11ed_83e7_40ec99d0cc93row3_col0\" class=\"data row3 col0\" >0.920600</td>\n",
       "                        <td id=\"T_4e3fb0da_3436_11ed_83e7_40ec99d0cc93row3_col1\" class=\"data row3 col1\" >0.903989</td>\n",
       "                        <td id=\"T_4e3fb0da_3436_11ed_83e7_40ec99d0cc93row3_col2\" class=\"data row3 col2\" >0.998758</td>\n",
       "                        <td id=\"T_4e3fb0da_3436_11ed_83e7_40ec99d0cc93row3_col3\" class=\"data row3 col3\" >1.000000</td>\n",
       "            </tr>\n",
       "    </tbody></table>"
      ],
      "text/plain": [
       "<pandas.io.formats.style.Styler at 0x238df0b1cc0>"
      ]
     },
     "execution_count": 17,
     "metadata": {},
     "output_type": "execute_result"
    }
   ],
   "source": [
    "pearson = agrupado.corr()\n",
    "pearson.style.background_gradient(cmap='viridis')"
   ]
  },
  {
   "cell_type": "code",
   "execution_count": 7,
   "id": "8932a3da",
   "metadata": {},
   "outputs": [
    {
     "data": {
      "text/plain": [
       "<AxesSubplot:ylabel='NOC'>"
      ]
     },
     "execution_count": 7,
     "metadata": {},
     "output_type": "execute_result"
    },
    {
     "data": {
      "image/png": "[encoded data removed]",
      "text/plain": [
       "<Figure size 360x360 with 1 Axes>"
      ]
     },
     "metadata": {},
     "output_type": "display_data"
    }
   ],
   "source": [
    "#Top paises con mas medallas.\n",
    "df_medal = df[df[\"Year\"]==2016] #filtramos los que si ganaron medallas\n",
    "#Top paises con mas medallas.\n",
    "df_medalleros = df_medal[['NOC','Medal']] ##solo el pais, año\n",
    "#df_medalleros['NOC'].value_counts().head(10).plot(kind='bar')#graficamos\n",
    "#Grafica de pie\n",
    "df_1 = df_medalleros['NOC'].value_counts().head(10)\n",
    "#df_medalleros['NOC'].value_counts().head(10).plot(kind='pie')#graficamos utilizando plot y kind\n",
    "df_1.plot.pie(y='NOC', figsize=(5, 5))#Utilizando plot.pie()"
   ]
  },
  {
   "cell_type": "code",
   "execution_count": null,
   "id": "0a2536ed",
   "metadata": {},
   "outputs": [],
   "source": []
  },
  {
   "cell_type": "code",
   "execution_count": 27,
   "id": "b0dbe1f2",
   "metadata": {},
   "outputs": [],
   "source": [
    "import matplotlib.pyplot as plt\n",
    "def labels(x,y):\n",
    "    for i in range(len(x)):\n",
    "        plt.text(i,y[i],y[i])\n",
    "        "
   ]
  },
  {
   "cell_type": "code",
   "execution_count": 28,
   "id": "980a8558",
   "metadata": {},
   "outputs": [],
   "source": [
    "x=['ringo','jon','paul','george','yoko']\n",
    "y=[5,10,15,30,12]\n"
   ]
  },
  {
   "cell_type": "code",
   "execution_count": 30,
   "id": "045fa5b2",
   "metadata": {},
   "outputs": [
    {
     "data": {
      "image/png": "[encoded data removed]",
      "text/plain": [
       "<Figure size 720x360 with 1 Axes>"
      ]
     },
     "metadata": {
      "needs_background": "light"
     },
     "output_type": "display_data"
    }
   ],
   "source": [
    "plt.figure(figsize=(10,5))\n",
    "plt.bar(x,y)\n",
    "labels(x,y)\n",
    "plt.title(\"nombres y edades\")\n",
    "plt.xlabel(\"nombre\")\n",
    "plt.ylabel(\"edad\")\n",
    "plt.show()"
   ]
  }
 ],
 "metadata": {
  "kernelspec": {
   "display_name": "Python 3",
   "language": "python",
   "name": "python3"
  },
  "language_info": {
   "codemirror_mode": {
    "name": "ipython",
    "version": 3
   },
   "file_extension": ".py",
   "mimetype": "text/x-python",
   "name": "python",
   "nbconvert_exporter": "python",
   "pygments_lexer": "ipython3",
   "version": "3.6.13"
  }
 },
 "nbformat": 4,
 "nbformat_minor": 5
}
