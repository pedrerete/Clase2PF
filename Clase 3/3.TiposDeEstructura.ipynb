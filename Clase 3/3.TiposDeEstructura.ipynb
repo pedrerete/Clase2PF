{
 "cells": [
  {
   "cell_type": "code",
   "execution_count": 1,
   "id": "63a6bb6b",
   "metadata": {},
   "outputs": [
    {
     "name": "stdout",
     "output_type": "stream",
     "text": [
      "Hola mundo, pedro esparza\n"
     ]
    }
   ],
   "source": [
    "print(\"Hola mundo, pedro esparza\")"
   ]
  },
  {
   "cell_type": "code",
   "execution_count": null,
   "id": "6891c512",
   "metadata": {},
   "outputs": [],
   "source": []
  },
  {
   "cell_type": "code",
   "execution_count": 2,
   "id": "85a5c76d",
   "metadata": {},
   "outputs": [
    {
     "data": {
      "text/plain": [
       "2"
      ]
     },
     "execution_count": 2,
     "metadata": {},
     "output_type": "execute_result"
    }
   ],
   "source": [
    "1+1"
   ]
  },
  {
   "cell_type": "code",
   "execution_count": 3,
   "id": "c9e1a6f0",
   "metadata": {},
   "outputs": [
    {
     "data": {
      "text/plain": [
       "1.9672131147540985"
      ]
     },
     "execution_count": 3,
     "metadata": {},
     "output_type": "execute_result"
    }
   ],
   "source": [
    "12/6.1"
   ]
  },
  {
   "cell_type": "code",
   "execution_count": 5,
   "id": "c2d54452",
   "metadata": {},
   "outputs": [
    {
     "data": {
      "text/plain": [
       "9"
      ]
     },
     "execution_count": 5,
     "metadata": {},
     "output_type": "execute_result"
    }
   ],
   "source": [
    "3**2"
   ]
  },
  {
   "cell_type": "code",
   "execution_count": null,
   "id": "d8eb8f21",
   "metadata": {},
   "outputs": [],
   "source": [
    "global var1  = 3\n",
    "var1 = 3\n",
    "def funcion()\n",
    "    global var 1"
   ]
  },
  {
   "cell_type": "code",
   "execution_count": 6,
   "id": "5d6740c7",
   "metadata": {},
   "outputs": [
    {
     "name": "stdout",
     "output_type": "stream",
     "text": [
      "12\n",
      "10\n"
     ]
    }
   ],
   "source": [
    "a = 10\n",
    "A = 12\n",
    "print(A)\n",
    "print(a)"
   ]
  },
  {
   "cell_type": "code",
   "execution_count": 7,
   "id": "a532bdb8",
   "metadata": {},
   "outputs": [
    {
     "name": "stdout",
     "output_type": "stream",
     "text": [
      "12\n"
     ]
    }
   ],
   "source": [
    "print(A)"
   ]
  },
  {
   "cell_type": "code",
   "execution_count": 1,
   "id": "3f85c1b5",
   "metadata": {},
   "outputs": [],
   "source": [
    "listaanidada = [25,[1,2,3,[1,5],6,[4,6]],6,[1,2],9]"
   ]
  },
  {
   "cell_type": "code",
   "execution_count": 6,
   "id": "d11a7aa2",
   "metadata": {},
   "outputs": [
    {
     "data": {
      "text/plain": [
       "[1, 5]"
      ]
     },
     "execution_count": 6,
     "metadata": {},
     "output_type": "execute_result"
    }
   ],
   "source": [
    "listaanidada[1][3]"
   ]
  }
 ],
 "metadata": {
  "kernelspec": {
   "display_name": "Python 3",
   "language": "python",
   "name": "python3"
  },
  "language_info": {
   "codemirror_mode": {
    "name": "ipython",
    "version": 3
   },
   "file_extension": ".py",
   "mimetype": "text/x-python",
   "name": "python",
   "nbconvert_exporter": "python",
   "pygments_lexer": "ipython3",
   "version": "3.6.13"
  }
 },
 "nbformat": 4,
 "nbformat_minor": 5
}
