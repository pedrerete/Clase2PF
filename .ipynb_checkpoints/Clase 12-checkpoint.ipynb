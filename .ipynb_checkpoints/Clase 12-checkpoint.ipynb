{
 "cells": [
  {
   "cell_type": "code",
   "execution_count": null,
   "id": "e95bc821",
   "metadata": {},
   "outputs": [],
   "source": [
    "## Clase 12"
   ]
  },
  {
   "cell_type": "code",
   "execution_count": 4,
   "id": "a53d7bde",
   "metadata": {},
   "outputs": [],
   "source": [
    "def imprimir_k(**kwargs):\n",
    "    print(kwargs)\n",
    "def imprimir_a(*args):\n",
    "    total = 0\n",
    "    for a in args:\n",
    "        total = total+a\n",
    "    print(total)"
   ]
  },
  {
   "cell_type": "code",
   "execution_count": 2,
   "id": "3255d08c",
   "metadata": {},
   "outputs": [
    {
     "name": "stdout",
     "output_type": "stream",
     "text": [
      "{'a': 1, 'b': 2, 'c': 3, 'd': 4, 'e': 5}\n"
     ]
    }
   ],
   "source": [
    "imprimir_k(a=1,b=2,c=3,d=4,e=5)"
   ]
  },
  {
   "cell_type": "code",
   "execution_count": 5,
   "id": "6b8e52f4",
   "metadata": {},
   "outputs": [
    {
     "name": "stdout",
     "output_type": "stream",
     "text": [
      "15\n",
      "5\n"
     ]
    }
   ],
   "source": [
    "imprimir_a(1,2,3,4,5)\n",
    "imprimir_a(2,3)"
   ]
  },
  {
   "cell_type": "code",
   "execution_count": 22,
   "id": "7bf52b16",
   "metadata": {},
   "outputs": [],
   "source": [
    "def calc2(a,b,c,*args,**kwargs):\n",
    "    if kwargs.get(\"operacion\")==\"suma\":\n",
    "        print(\"La suma de a b y c es: \", (a+b+c))\n",
    "    if kwargs.get(\"argumento\")==\"primero\":\n",
    "        print(\"El primer argumento es: \", a)\n",
    "    suma = 0\n",
    "    for i in args:\n",
    "        suma = suma + i\n",
    "    print(\"La suma de los arugmentos es: \",suma)"
   ]
  },
  {
   "cell_type": "code",
   "execution_count": 9,
   "id": "61ab2497",
   "metadata": {},
   "outputs": [],
   "source": [
    "numeros = [1,2,3,4,5]"
   ]
  },
  {
   "cell_type": "code",
   "execution_count": 23,
   "id": "9f9c6aa8",
   "metadata": {},
   "outputs": [
    {
     "name": "stdout",
     "output_type": "stream",
     "text": [
      "La suma de a b y c es:  6\n",
      "El primer argumento es:  1\n",
      "La suma de los arugmentos es:  15\n"
     ]
    }
   ],
   "source": [
    "calc2(1,2,3,*numeros,operacion=\"suma\",argumento=\"primero\")"
   ]
  },
  {
   "cell_type": "code",
   "execution_count": 26,
   "id": "9ff847c0",
   "metadata": {},
   "outputs": [],
   "source": [
    "import pandas as pd\n",
    "import numpy as np\n"
   ]
  },
  {
   "cell_type": "code",
   "execution_count": 28,
   "id": "e540cad6",
   "metadata": {},
   "outputs": [],
   "source": [
    "dict1 = {\n",
    "    \"nombre\" : [\"Pedro\",\"Esparza\",\"Garcia\"],\n",
    "    \"edad\":[1,2,3],\n",
    "    \"Salario\":[1000,2000,3000],\n",
    "    \"Genero\":[\"N\",\"M\",\"A\"]\n",
    "}"
   ]
  },
  {
   "cell_type": "code",
   "execution_count": 36,
   "id": "eadf9966",
   "metadata": {},
   "outputs": [],
   "source": [
    "data = pd.DataFrame(dict1)"
   ]
  },
  {
   "cell_type": "code",
   "execution_count": 37,
   "id": "67865a33",
   "metadata": {},
   "outputs": [
    {
     "data": {
      "text/html": [
       "<div>\n",
       "<style scoped>\n",
       "    .dataframe tbody tr th:only-of-type {\n",
       "        vertical-align: middle;\n",
       "    }\n",
       "\n",
       "    .dataframe tbody tr th {\n",
       "        vertical-align: top;\n",
       "    }\n",
       "\n",
       "    .dataframe thead th {\n",
       "        text-align: right;\n",
       "    }\n",
       "</style>\n",
       "<table border=\"1\" class=\"dataframe\">\n",
       "  <thead>\n",
       "    <tr style=\"text-align: right;\">\n",
       "      <th></th>\n",
       "      <th>nombre</th>\n",
       "      <th>edad</th>\n",
       "      <th>Salario</th>\n",
       "      <th>Genero</th>\n",
       "    </tr>\n",
       "  </thead>\n",
       "  <tbody>\n",
       "    <tr>\n",
       "      <th>0</th>\n",
       "      <td>Pedro</td>\n",
       "      <td>1</td>\n",
       "      <td>1000</td>\n",
       "      <td>N</td>\n",
       "    </tr>\n",
       "    <tr>\n",
       "      <th>1</th>\n",
       "      <td>Esparza</td>\n",
       "      <td>2</td>\n",
       "      <td>2000</td>\n",
       "      <td>M</td>\n",
       "    </tr>\n",
       "    <tr>\n",
       "      <th>2</th>\n",
       "      <td>Garcia</td>\n",
       "      <td>3</td>\n",
       "      <td>3000</td>\n",
       "      <td>A</td>\n",
       "    </tr>\n",
       "  </tbody>\n",
       "</table>\n",
       "</div>"
      ],
      "text/plain": [
       "    nombre  edad  Salario Genero\n",
       "0    Pedro     1     1000      N\n",
       "1  Esparza     2     2000      M\n",
       "2   Garcia     3     3000      A"
      ]
     },
     "execution_count": 37,
     "metadata": {},
     "output_type": "execute_result"
    }
   ],
   "source": [
    "data.head()"
   ]
  },
  {
   "cell_type": "code",
   "execution_count": 32,
   "id": "08d37e4c",
   "metadata": {},
   "outputs": [
    {
     "name": "stdout",
     "output_type": "stream",
     "text": [
      "    nombre Genero\n",
      "0    Pedro      N\n",
      "1  Esparza      M\n",
      "2   Garcia      A\n"
     ]
    }
   ],
   "source": [
    "datos_categoricos = data.select_dtypes(exclude=[np.number])\n",
    "print(datos_categoricos)"
   ]
  },
  {
   "cell_type": "code",
   "execution_count": 42,
   "id": "48d96d8b",
   "metadata": {},
   "outputs": [
    {
     "name": "stdout",
     "output_type": "stream",
     "text": [
      "El salario mayor es de 3000 , el salario menor es de 1000  y la diferencia es de 2000\n"
     ]
    }
   ],
   "source": [
    "maximo = data[\"Salario\"].max()\n",
    "minimo = data[\"Salario\"].min()\n",
    "dif = maximo - minimo\n",
    "print(\"El salario mayor es de\",maximo,\", el salario menor es de\", minimo,\" y la diferencia es de\", dif)"
   ]
  },
  {
   "cell_type": "code",
   "execution_count": 43,
   "id": "ddc568d5",
   "metadata": {},
   "outputs": [
    {
     "data": {
      "text/html": [
       "<div>\n",
       "<style scoped>\n",
       "    .dataframe tbody tr th:only-of-type {\n",
       "        vertical-align: middle;\n",
       "    }\n",
       "\n",
       "    .dataframe tbody tr th {\n",
       "        vertical-align: top;\n",
       "    }\n",
       "\n",
       "    .dataframe thead th {\n",
       "        text-align: right;\n",
       "    }\n",
       "</style>\n",
       "<table border=\"1\" class=\"dataframe\">\n",
       "  <thead>\n",
       "    <tr style=\"text-align: right;\">\n",
       "      <th></th>\n",
       "      <th>edad</th>\n",
       "      <th>Salario</th>\n",
       "    </tr>\n",
       "  </thead>\n",
       "  <tbody>\n",
       "    <tr>\n",
       "      <th>count</th>\n",
       "      <td>3.0</td>\n",
       "      <td>3.0</td>\n",
       "    </tr>\n",
       "    <tr>\n",
       "      <th>mean</th>\n",
       "      <td>2.0</td>\n",
       "      <td>2000.0</td>\n",
       "    </tr>\n",
       "    <tr>\n",
       "      <th>std</th>\n",
       "      <td>1.0</td>\n",
       "      <td>1000.0</td>\n",
       "    </tr>\n",
       "    <tr>\n",
       "      <th>min</th>\n",
       "      <td>1.0</td>\n",
       "      <td>1000.0</td>\n",
       "    </tr>\n",
       "    <tr>\n",
       "      <th>25%</th>\n",
       "      <td>1.5</td>\n",
       "      <td>1500.0</td>\n",
       "    </tr>\n",
       "    <tr>\n",
       "      <th>50%</th>\n",
       "      <td>2.0</td>\n",
       "      <td>2000.0</td>\n",
       "    </tr>\n",
       "    <tr>\n",
       "      <th>75%</th>\n",
       "      <td>2.5</td>\n",
       "      <td>2500.0</td>\n",
       "    </tr>\n",
       "    <tr>\n",
       "      <th>max</th>\n",
       "      <td>3.0</td>\n",
       "      <td>3000.0</td>\n",
       "    </tr>\n",
       "  </tbody>\n",
       "</table>\n",
       "</div>"
      ],
      "text/plain": [
       "       edad  Salario\n",
       "count   3.0      3.0\n",
       "mean    2.0   2000.0\n",
       "std     1.0   1000.0\n",
       "min     1.0   1000.0\n",
       "25%     1.5   1500.0\n",
       "50%     2.0   2000.0\n",
       "75%     2.5   2500.0\n",
       "max     3.0   3000.0"
      ]
     },
     "execution_count": 43,
     "metadata": {},
     "output_type": "execute_result"
    }
   ],
   "source": [
    "data.describe()"
   ]
  }
 ],
 "metadata": {
  "kernelspec": {
   "display_name": "Python 3",
   "language": "python",
   "name": "python3"
  },
  "language_info": {
   "codemirror_mode": {
    "name": "ipython",
    "version": 3
   },
   "file_extension": ".py",
   "mimetype": "text/x-python",
   "name": "python",
   "nbconvert_exporter": "python",
   "pygments_lexer": "ipython3",
   "version": "3.6.13"
  }
 },
 "nbformat": 4,
 "nbformat_minor": 5
}
