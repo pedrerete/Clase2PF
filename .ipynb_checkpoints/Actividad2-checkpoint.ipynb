{
 "cells": [
  {
   "cell_type": "markdown",
   "id": "e8b76b7b",
   "metadata": {},
   "source": [
    "## Dupla"
   ]
  },
  {
   "cell_type": "code",
   "execution_count": 2,
   "id": "57e6ccc6",
   "metadata": {},
   "outputs": [
    {
     "data": {
      "text/plain": [
       "['Pedro', 27, 'Esparza', True, 'Garcia']"
      ]
     },
     "execution_count": 2,
     "metadata": {},
     "output_type": "execute_result"
    }
   ],
   "source": [
    "#crear dupla\n",
    "dupla = [\"Pedro\", 27, \"Esparza\", True, \"Garcia\"]\n",
    "dupla"
   ]
  },
  {
   "cell_type": "markdown",
   "id": "0fb02bb9",
   "metadata": {},
   "source": [
    "## Lista"
   ]
  },
  {
   "cell_type": "code",
   "execution_count": 3,
   "id": "2beaef4b",
   "metadata": {},
   "outputs": [
    {
     "data": {
      "text/plain": [
       "['Pedro', 27, 'Esparza', True, 'Garcia']"
      ]
     },
     "execution_count": 3,
     "metadata": {},
     "output_type": "execute_result"
    }
   ],
   "source": [
    "#crear lista\n",
    "lista = list(dupla)\n",
    "lista"
   ]
  },
  {
   "cell_type": "code",
   "execution_count": 4,
   "id": "01cab370",
   "metadata": {},
   "outputs": [
    {
     "data": {
      "text/plain": [
       "[1, 2, 3, 4, 5]"
      ]
     },
     "execution_count": 4,
     "metadata": {},
     "output_type": "execute_result"
    }
   ],
   "source": [
    "#crear segunda lista para hacerlo manual con fromkeys\n",
    "lista2 = list([1,2,3,4,5])\n",
    "lista2"
   ]
  },
  {
   "cell_type": "markdown",
   "id": "c637310a",
   "metadata": {},
   "source": [
    "## Diccionario"
   ]
  },
  {
   "cell_type": "code",
   "execution_count": 9,
   "id": "764c44d2",
   "metadata": {},
   "outputs": [
    {
     "data": {
      "text/plain": [
       "{1: ['Pedro', 27, 'Esparza', True, 'Garcia'],\n",
       " 2: ['Pedro', 27, 'Esparza', True, 'Garcia'],\n",
       " 3: ['Pedro', 27, 'Esparza', True, 'Garcia'],\n",
       " 4: ['Pedro', 27, 'Esparza', True, 'Garcia'],\n",
       " 5: ['Pedro', 27, 'Esparza', True, 'Garcia']}"
      ]
     },
     "execution_count": 9,
     "metadata": {},
     "output_type": "execute_result"
    }
   ],
   "source": [
    "#agregar a cada numero, todos los valores de la lista\n",
    "dicc = dict.fromkeys(lista2,lista)\n",
    "dicc"
   ]
  },
  {
   "cell_type": "code",
   "execution_count": 11,
   "id": "3c4c29c7",
   "metadata": {},
   "outputs": [
    {
     "data": {
      "text/plain": [
       "{'Pedro': 0, 27: 1, 'Esparza': 2, True: 3, 'Garcia': 4}"
      ]
     },
     "execution_count": 11,
     "metadata": {},
     "output_type": "execute_result"
    }
   ],
   "source": [
    "#agregar a un valor un numero del 1 al length dela lista\n",
    "dicc2 = dict(zip(lista,range(len(lista))))\n",
    "dicc2"
   ]
  },
  {
   "cell_type": "code",
   "execution_count": 12,
   "id": "d77e4a9f",
   "metadata": {},
   "outputs": [
    {
     "data": {
      "text/plain": [
       "{0: 'Pedro', 1: 27, 2: 'Esparza', 3: True, 4: 'Garcia'}"
      ]
     },
     "execution_count": 12,
     "metadata": {},
     "output_type": "execute_result"
    }
   ],
   "source": [
    "#agregar a un valor un numero del length de la lista pero volteados\n",
    "dicc3 = {y: x for x, y in dicc2.items()}\n",
    "dicc3"
   ]
  }
 ],
 "metadata": {
  "kernelspec": {
   "display_name": "Python 3",
   "language": "python",
   "name": "python3"
  },
  "language_info": {
   "codemirror_mode": {
    "name": "ipython",
    "version": 3
   },
   "file_extension": ".py",
   "mimetype": "text/x-python",
   "name": "python",
   "nbconvert_exporter": "python",
   "pygments_lexer": "ipython3",
   "version": "3.6.13"
  }
 },
 "nbformat": 4,
 "nbformat_minor": 5
}
