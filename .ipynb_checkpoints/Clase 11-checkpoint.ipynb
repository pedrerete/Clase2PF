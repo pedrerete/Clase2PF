{
 "cells": [
  {
   "cell_type": "markdown",
   "id": "f857450e",
   "metadata": {},
   "source": [
    "# Clase 11"
   ]
  },
  {
   "cell_type": "code",
   "execution_count": 3,
   "id": "e29909b0",
   "metadata": {},
   "outputs": [],
   "source": [
    "class Persona: #def clase\n",
    "    '''Clase que representa a una persona'''\n",
    "    nombre= 'Pedro'\n",
    "    apellido = 'Esparza'\n",
    "    genero = 'Terror'\n",
    "    estado = 'Solido'\n",
    "    "
   ]
  },
  {
   "cell_type": "code",
   "execution_count": 4,
   "id": "93ccc5de",
   "metadata": {},
   "outputs": [],
   "source": [
    "emp1 = Persona"
   ]
  },
  {
   "cell_type": "code",
   "execution_count": 8,
   "id": "7bd9c121",
   "metadata": {},
   "outputs": [
    {
     "data": {
      "text/plain": [
       "['__class__',\n",
       " '__delattr__',\n",
       " '__dict__',\n",
       " '__dir__',\n",
       " '__doc__',\n",
       " '__eq__',\n",
       " '__format__',\n",
       " '__ge__',\n",
       " '__getattribute__',\n",
       " '__gt__',\n",
       " '__hash__',\n",
       " '__init__',\n",
       " '__init_subclass__',\n",
       " '__le__',\n",
       " '__lt__',\n",
       " '__module__',\n",
       " '__ne__',\n",
       " '__new__',\n",
       " '__reduce__',\n",
       " '__reduce_ex__',\n",
       " '__repr__',\n",
       " '__setattr__',\n",
       " '__sizeof__',\n",
       " '__str__',\n",
       " '__subclasshook__',\n",
       " '__weakref__',\n",
       " 'apellido',\n",
       " 'estado',\n",
       " 'genero',\n",
       " 'nombre']"
      ]
     },
     "execution_count": 8,
     "metadata": {},
     "output_type": "execute_result"
    }
   ],
   "source": [
    "dir(emp1)"
   ]
  },
  {
   "cell_type": "code",
   "execution_count": 6,
   "id": "8f2c44d1",
   "metadata": {},
   "outputs": [
    {
     "data": {
      "text/plain": [
       "'Persona'"
      ]
     },
     "execution_count": 6,
     "metadata": {},
     "output_type": "execute_result"
    }
   ],
   "source": [
    "emp1.__name__ #la clase de la persona"
   ]
  },
  {
   "cell_type": "code",
   "execution_count": 7,
   "id": "29898c2c",
   "metadata": {},
   "outputs": [
    {
     "data": {
      "text/plain": [
       "'Clase que representa a una persona'"
      ]
     },
     "execution_count": 7,
     "metadata": {},
     "output_type": "execute_result"
    }
   ],
   "source": [
    "emp1.__doc__ #lo que delcaramos en la plase persona como descripcion"
   ]
  },
  {
   "cell_type": "code",
   "execution_count": 10,
   "id": "22cd2c49",
   "metadata": {},
   "outputs": [],
   "source": [
    "class Persona: #def clase\n",
    "    '''Clase que representa a una persona'''\n",
    "    nombre= 'Pedro'\n",
    "    apellido = 'Esparza'\n",
    "    genero = 'Terror'\n",
    "    estado = 'Solido'\n",
    "    def hablar(self,mensaje):\n",
    "        '''Impresion del mensaje'''\n",
    "        print(mensaje)"
   ]
  },
  {
   "cell_type": "code",
   "execution_count": 13,
   "id": "5e9238a7",
   "metadata": {},
   "outputs": [
    {
     "name": "stdout",
     "output_type": "stream",
     "text": [
      "hola\n"
     ]
    }
   ],
   "source": [
    "Persona().hablar(\"hola\")"
   ]
  },
  {
   "cell_type": "code",
   "execution_count": 20,
   "id": "e19afded",
   "metadata": {},
   "outputs": [],
   "source": [
    "class Persona: #def clase\n",
    "    '''Clase que representa a una persona'''\n",
    "    def __init__(self,nombre,apellido,genero,estado):\n",
    "        self.nombre= nombre\n",
    "        self.apellido = apellido\n",
    "        self.genero = genero\n",
    "        self.estado = estado\n",
    "    def hablar(self,mensaje):\n",
    "        '''Impresion del mensaje'''\n",
    "        print(mensaje)"
   ]
  },
  {
   "cell_type": "code",
   "execution_count": 82,
   "id": "6ab47be4",
   "metadata": {},
   "outputs": [],
   "source": [
    "class superv(Persona):\n",
    "    def __init__(self, nombre, apellido, genero, estado, puesto):\n",
    "        '''Consturctor para un supervisor'''\n",
    "        Persona.__init__(self, nombre, apellido, genero, estado)\n",
    "        self.puesto = puesto \n",
    "        self.tareas=[\"2\",\"3\",\"4\"]\n",
    "        \n",
    "    def __str__(self):\n",
    "        return \"%s: %s %s, puesto: %s, sus tareas son %s\" %(self.__doc__, self.nombre, self.apellido, self.puesto, self.tareas)\n",
    "    def consulta_tareas(self):\n",
    "        return \", \".join (self.tareas)"
   ]
  },
  {
   "cell_type": "code",
   "execution_count": 47,
   "id": "f400b52c",
   "metadata": {},
   "outputs": [],
   "source": [
    "Emp2=Persona(\"Mauricio\",\"Garcia\",\"Accion\",\"Liquido\")"
   ]
  },
  {
   "cell_type": "code",
   "execution_count": 83,
   "id": "a6ac67ad",
   "metadata": {},
   "outputs": [],
   "source": [
    "super1 = superv(\"a\",\"b\",\"c\",\"d\",\"e\")\n"
   ]
  },
  {
   "cell_type": "code",
   "execution_count": 84,
   "id": "9650efd5",
   "metadata": {},
   "outputs": [
    {
     "data": {
      "text/plain": [
       "'2, 3, 4'"
      ]
     },
     "execution_count": 84,
     "metadata": {},
     "output_type": "execute_result"
    }
   ],
   "source": [
    "super1.consulta_tareas()"
   ]
  },
  {
   "cell_type": "code",
   "execution_count": 85,
   "id": "6ee36eaa",
   "metadata": {},
   "outputs": [],
   "source": [
    "super2 = superv(\"Nabu\",\"Ratsuga\",\"Accion\",\"NL\",\"Puesto1\")\n",
    "super3 = superv(\"Natsu\",\"Dragneel\",\"Accion\",\"NL\",\"Puesto1\")\n",
    "\n",
    "#class Persona: #def clase\n",
    "#    '''Clase que representa a una persona'''\n",
    "#    def __init__(self,nombre,apellido,genero,estado):\n",
    "#        self.nombre= nombre\n",
    "#        self.apellido = apellido\n",
    "#        self.genero = genero\n",
    "#        self.estado = estado\n",
    "#    def hablar(self,mensaje):\n",
    "#        '''Impresion del mensaje'''\n",
    "#        print(mensaje)\n",
    "    "
   ]
  },
  {
   "cell_type": "markdown",
   "id": "a2f0d5a4",
   "metadata": {},
   "source": [
    "# Actividad calculadora"
   ]
  },
  {
   "cell_type": "code",
   "execution_count": 94,
   "id": "dbc6e110",
   "metadata": {},
   "outputs": [],
   "source": [
    "#actividad calculadora con clases\n",
    "from math import sqrt\n",
    "class calculadora():\n",
    "    def __init__(self, numero1,numero2):\n",
    "        self.numero1 = numero1\n",
    "        self.numero2 = numero2\n",
    "    def sumar(self):\n",
    "        print(self.numero1+self.numero2)\n",
    "    def restar(self):\n",
    "        print(self.numero1-self.numero2)\n",
    "    \n",
    "    def multi(self):\n",
    "        print(self.numero1*self.numero2)\n",
    "    \n",
    "    def dividir(self):\n",
    "        print(self.numero1/self.numero2)\n",
    "    \n",
    "    def raiz(self):\n",
    "        print(sqrt(self.numero1))\n",
    "    def potencia(self):\n",
    "        print(self.numero1**self.numero2)"
   ]
  },
  {
   "cell_type": "code",
   "execution_count": 95,
   "id": "30bc58bd",
   "metadata": {},
   "outputs": [],
   "source": [
    "calc1 = calculadora(1,2)"
   ]
  },
  {
   "cell_type": "code",
   "execution_count": 96,
   "id": "3743d18a",
   "metadata": {},
   "outputs": [
    {
     "name": "stdout",
     "output_type": "stream",
     "text": [
      "1.0\n"
     ]
    }
   ],
   "source": [
    "calc1.raiz()"
   ]
  }
 ],
 "metadata": {
  "kernelspec": {
   "display_name": "Python 3",
   "language": "python",
   "name": "python3"
  },
  "language_info": {
   "codemirror_mode": {
    "name": "ipython",
    "version": 3
   },
   "file_extension": ".py",
   "mimetype": "text/x-python",
   "name": "python",
   "nbconvert_exporter": "python",
   "pygments_lexer": "ipython3",
   "version": "3.6.13"
  }
 },
 "nbformat": 4,
 "nbformat_minor": 5
}
