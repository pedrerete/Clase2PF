{
 "cells": [
  {
   "cell_type": "code",
   "execution_count": 25,
   "id": "e454109b",
   "metadata": {},
   "outputs": [],
   "source": [
    "#instalamos las librerias necesarias\n",
    "import pandas as pd\n",
    "import numpy as np\n",
    "import matplotlib"
   ]
  },
  {
   "cell_type": "code",
   "execution_count": 26,
   "id": "5e99a0fe",
   "metadata": {},
   "outputs": [],
   "source": [
    "sales_files_import = pd.read_csv(\"C:\\\\Users\\\\pesparza\\\\Desktop\\\\Curso Python\\\\Files\\\\2022-09-22.csv\")\n"
   ]
  },
  {
   "cell_type": "code",
   "execution_count": 27,
   "id": "11215a2c",
   "metadata": {},
   "outputs": [
    {
     "name": "stderr",
     "output_type": "stream",
     "text": [
      "C:\\Users\\pesparza\\Anaconda3\\envs\\python_fundamentals\\lib\\site-packages\\ipykernel_launcher.py:4: SettingWithCopyWarning: \n",
      "A value is trying to be set on a copy of a slice from a DataFrame.\n",
      "Try using .loc[row_indexer,col_indexer] = value instead\n",
      "\n",
      "See the caveats in the documentation: https://pandas.pydata.org/pandas-docs/stable/user_guide/indexing.html#returning-a-view-versus-a-copy\n",
      "  after removing the cwd from sys.path.\n"
     ]
    }
   ],
   "source": [
    "#seleccionamos las columnas que nos interesan\n",
    "df = sales_files_import[['Create_Date','NumeroPedido','Fecha','Hora','Cliente','Material','Stock','Sugerido','Venta','Peso','Precio','Tipo','Motivo','Region','Sucursal','Ruta']]\n",
    "#calculamos falta de stock\n",
    "df['StockXSugerido'] = df['Stock']-df['Sugerido']\n",
    "#filtramos por los registros donde no se tuvo stock y lo vemos por region\n",
    "dfNegativo=df[df[\"StockXSugerido\"] <0]"
   ]
  },
  {
   "cell_type": "code",
   "execution_count": 28,
   "id": "e207ef7d",
   "metadata": {},
   "outputs": [],
   "source": [
    "#funciona para seleccionar una region del catalogo\n",
    "def selectRegion():\n",
    "    print(\"Esribe la region que quieres analizar\")\n",
    "    regiones = dfNegativo['Region'].unique()\n",
    "    print(regiones)\n",
    "    region = input().upper()\n",
    "    return region in regiones, region\n"
   ]
  },
  {
   "cell_type": "code",
   "execution_count": 29,
   "id": "cc359448",
   "metadata": {},
   "outputs": [],
   "source": [
    "#funciona para seleccionar una sucursal del catalogo\n",
    "def selectSucursal():\n",
    "    print(\"Esribe la sucursal que quieres analizar\")\n",
    "    sucursales = dfNegativoRegion['Sucursal'].unique()\n",
    "    print(sucursales)\n",
    "    sucursal = input().upper()\n",
    "    return sucursal in sucursales, sucursal\n"
   ]
  },
  {
   "cell_type": "code",
   "execution_count": 30,
   "id": "bb658d0c",
   "metadata": {},
   "outputs": [],
   "source": [
    "#funciona para seleccionar una ruta del catalogo\n",
    "def selectRuta():\n",
    "    print(\"Esribe la ruta que quieres analizar\")\n",
    "    rutas = dfNegativoRegionSuc['Ruta'].unique()\n",
    "    print(rutas)\n",
    "    ruta = int(input())\n",
    "    print(ruta in rutas)\n",
    "    return ruta in rutas, ruta\n"
   ]
  },
  {
   "cell_type": "code",
   "execution_count": 31,
   "id": "f216e8c3",
   "metadata": {},
   "outputs": [],
   "source": [
    "#funciona para mostrar el resultado del analisis a nivel region\n",
    "\n",
    "def analisisRegion(region):\n",
    "    print(\"Fuera de Stock para la region: \" + region)\n",
    "    df = dfNegativo[dfNegativo['Region']==region]\n",
    "    ax = df['Material'].value_counts().sort_values(ascending=False).head(10).plot(kind=\"pie\", title=\"Materiales Fuera de stock en una region\")\n",
    "    pieReg = df['Material'].value_counts()\n",
    "    pieReg.head(5)"
   ]
  },
  {
   "cell_type": "code",
   "execution_count": 32,
   "id": "cf1b3cba",
   "metadata": {},
   "outputs": [],
   "source": [
    "#funciona para mostrar el resultado del analisis a nivel sucursal\n",
    "\n",
    "def analisisSucursal(region, sucursal):\n",
    "    print(\"Fuera de Stock para la region: \" + region  + \" y sucursal: \" + sucursal)\n",
    "    df1 = dfNegativo[dfNegativo['Region']==region]\n",
    "    df = df1[df1['Sucursal']==sucursal]\n",
    "    ax = df['Material'].value_counts().sort_values(ascending=False).head(10).plot(kind=\"pie\", title=\"Materiales Fuera de stock en una region-sucursal\")\n",
    "    pieReg = df['Material'].value_counts()\n",
    "    pieReg.head(5)"
   ]
  },
  {
   "cell_type": "code",
   "execution_count": 33,
   "id": "62061370",
   "metadata": {},
   "outputs": [],
   "source": [
    "#funciona para mostrar el resultado del analisis a nivel ruta\n",
    "\n",
    "def analisisRuta(region, sucursal, ruta):\n",
    "    print(\"Fuera de Stock para la region: \" + region  + \", sucursal: \" + sucursal + \" y ruta: \" +  str(ruta))\n",
    "    df1 = dfNegativo[dfNegativo['Region']==region]\n",
    "    df2 = df1[df1['Sucursal']==sucursal]\n",
    "    df = df2[df2['Ruta']==ruta]\n",
    "    ax = df['Material'].value_counts().sort_values(ascending=False).head(10).plot(kind=\"pie\", title=\"Materiales Fuera de stock en una region-sucursal-ruta\")\n",
    "    pieReg = df['Material'].value_counts()\n",
    "    pieReg.head(5)"
   ]
  },
  {
   "cell_type": "code",
   "execution_count": 41,
   "id": "ea6d3421",
   "metadata": {},
   "outputs": [
    {
     "name": "stdout",
     "output_type": "stream",
     "text": [
      "Quieres ver el analisis a nivel Region, Sucursal o Ruta?\n",
      "1 = Region\n",
      "2 = Sucursal\n",
      "3 = Ruta\n",
      "1\n",
      "Esribe la region que quieres analizar\n",
      "['SUR' 'CTO' 'OCC' 'NTE' nan]\n",
      "CTO\n",
      "Fuera de Stock para la region: CTO\n"
     ]
    },
    {
     "data": {
      "image/png": "[encoded data removed]",
      "text/plain": [
       "<Figure size 432x288 with 1 Axes>"
      ]
     },
     "metadata": {},
     "output_type": "display_data"
    }
   ],
   "source": [
    "#funciona para correr el programa\n",
    "\n",
    "print(\"Quieres ver el analisis a nivel Region, Sucursal o Ruta?\") #preguntamos por el analisis que se quiere hacer\n",
    "print(\"1 = Region\")\n",
    "print(\"2 = Sucursal\")\n",
    "print(\"3 = Ruta\")\n",
    "analisis = int(input())\n",
    "\n",
    "while((analisis>3) or (analisis<1)):\n",
    "    print(\"Quieres ver el analisis a nivel Region, Sucursal o Ruta?\")\n",
    "    print(\"1 = Region\")\n",
    "    print(\"2 = Sucursal\")\n",
    "    print(\"3 = Ruta\")\n",
    "    analisis = int(input())\n",
    "#analisis por region\n",
    "if(analisis == 1):\n",
    "    region = False\n",
    "    while(not(region)):\n",
    "        region, regionSeleccionada = selectRegion()\n",
    "    dfNegativoRegion = dfNegativo[dfNegativo['Region']==regionSeleccionada]\n",
    "    analisisRegion(regionSeleccionada)\n",
    "#analisis por sucursal\n",
    "if(analisis == 2):\n",
    "    region = False\n",
    "    while(not(region)):\n",
    "        region, regionSeleccionada = selectRegion()\n",
    "    dfNegativoRegion = dfNegativo[dfNegativo['Region']==regionSeleccionada]\n",
    "    sucursal = False\n",
    "    while(not(sucursal)):\n",
    "        sucursal, sucursalSeleccionada = selectSucursal()\n",
    "    dfNegativoRegionSuc = dfNegativoRegion[dfNegativoRegion['Sucursal']==sucursalSeleccionada]\n",
    "    analisisSucursal(regionSeleccionada,sucursalSeleccionada)\n",
    "#analisis por ruta\n",
    "if(analisis == 3):\n",
    "    region = False\n",
    "    while(not(region)):\n",
    "        region, regionSeleccionada = selectRegion()\n",
    "    dfNegativoRegion = dfNegativo[dfNegativo['Region']==regionSeleccionada]\n",
    "    sucursal = False\n",
    "    while(not(sucursal)):\n",
    "        sucursal, sucursalSeleccionada = selectSucursal()\n",
    "    dfNegativoRegionSuc = dfNegativoRegion[dfNegativoRegion['Sucursal']==sucursalSeleccionada]\n",
    "    ruta = False\n",
    "    while(not(ruta)):\n",
    "        ruta, rutaSeleccionada = selectRuta()\n",
    "    analisisRuta(regionSeleccionada,sucursalSeleccionada,rutaSeleccionada)\n"
   ]
  }
 ],
 "metadata": {
  "kernelspec": {
   "display_name": "Python 3",
   "language": "python",
   "name": "python3"
  },
  "language_info": {
   "codemirror_mode": {
    "name": "ipython",
    "version": 3
   },
   "file_extension": ".py",
   "mimetype": "text/x-python",
   "name": "python",
   "nbconvert_exporter": "python",
   "pygments_lexer": "ipython3",
   "version": "3.6.13"
  }
 },
 "nbformat": 4,
 "nbformat_minor": 5
}
