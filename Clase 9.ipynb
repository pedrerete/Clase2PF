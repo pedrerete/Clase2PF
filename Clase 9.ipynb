{
 "cells": [
  {
   "cell_type": "markdown",
   "id": "31b33104",
   "metadata": {},
   "source": [
    "# Actividad 11 normal"
   ]
  },
  {
   "cell_type": "code",
   "execution_count": 16,
   "id": "e246c197",
   "metadata": {},
   "outputs": [
    {
     "name": "stdout",
     "output_type": "stream",
     "text": [
      "Registrado un gasto de 1.0\n",
      "Registrado un gasto de 2.0\n",
      "El total es 3.0\n"
     ]
    }
   ],
   "source": [
    "#compras\n",
    "total  = 0\n",
    "gasto = 0\n",
    "gasto  = float(input((\"ingresa el gasto, 0 para salir\")))\n",
    "if(gasto!=0):\n",
    "    while (gasto!= 0):\n",
    "        while(gasto<0):\n",
    "            print(gasto, \"no es positivo, Dame un gasto positivo, 0 para alir\")\n",
    "            gasto  = float(input((\"Dame un gasto positivo, 0 para salir\")))\n",
    "        if(gasto!=0):\n",
    "            print(\"Registrado un gasto de\", gasto)\n",
    "            total = total + gasto\n",
    "            gasto = float(input(\"ingresa otro gasto, 0 para salir\"))\n",
    "    if(total>1000):\n",
    "        total = total*.9\n",
    "    print(\"El total es\", total)\n",
    "else:\n",
    "    print(\"No se recibio ningun gasto \")"
   ]
  },
  {
   "cell_type": "markdown",
   "id": "53ec0ec8",
   "metadata": {},
   "source": [
    "# Actividad 11 Avanzada"
   ]
  },
  {
   "cell_type": "code",
   "execution_count": 18,
   "id": "347fbde5",
   "metadata": {},
   "outputs": [
    {
     "name": "stdout",
     "output_type": "stream",
     "text": [
      "Registrado un tiempo de 300.0\n",
      "Con un tiempo de 5 horas y 0.0 minutos\n",
      "El costo de estacionamiento es de 85\n",
      "Registrado un tiempo de 100.0\n",
      "Con un tiempo de 1 horas y 40.0 minutos\n",
      "El costo de estacionamiento es de 40\n",
      "Registrado un tiempo de 120.0\n",
      "Con un tiempo de 2 horas y 0.0 minutos\n",
      "El costo de estacionamiento es de 40\n",
      "Registrado un tiempo de 200.0\n",
      "Con un tiempo de 3 horas y 20.0 minutos\n",
      "El costo de estacionamiento es de 70\n"
     ]
    }
   ],
   "source": [
    "from math import trunc\n",
    "\n",
    "tiempo = 0\n",
    "costo = 0\n",
    "tiempo  = float(input((\"ingresa el tiempo de estacionamiento en minutos, 0 para salir\")))\n",
    "if(tiempo!=0):\n",
    "    while (tiempo!= 0):\n",
    "        costo = 0\n",
    "        while(tiempo<0):\n",
    "            print(tiempo, \"no es positivo, Dame un tiempo de estacionamiento en minutos positivo, 0 para alir\")\n",
    "            tiempo  = float(input((\"Dame un tiempo de estacionamiento en minutos positivo, 0 para salir\")))\n",
    "        if(tiempo!=0):\n",
    "            print(\"Registrado un tiempo de\", tiempo)\n",
    "            horas = trunc(tiempo/60)\n",
    "            minutos = tiempo%60\n",
    "            print(\"Con un tiempo de\", horas, \"horas y\",minutos,\"minutos\")\n",
    "            if(minutos !=0):\n",
    "                costo = costo+15\n",
    "            horas = horas-1\n",
    "            if(horas>=0):\n",
    "                if(horas==0):\n",
    "                    costo = costo+25\n",
    "                else:\n",
    "                    costo = costo+25 + (15*horas)\n",
    "            print(\"El costo de estacionamiento es de\", costo)\n",
    "            tiempo = float(input(\"ingresa otro tiempo de estacionamiento en minutos, 0 para salir\"))\n",
    "else:\n",
    "    print(\"No se recibio ningun tiempo\")"
   ]
  },
  {
   "cell_type": "markdown",
   "id": "42f34b11",
   "metadata": {},
   "source": [
    "# Funciones"
   ]
  },
  {
   "cell_type": "code",
   "execution_count": 21,
   "id": "31509962",
   "metadata": {},
   "outputs": [
    {
     "name": "stdout",
     "output_type": "stream",
     "text": [
      "(2.741036999120817+0j)\n",
      "(0.4256296675458497+0j)\n"
     ]
    }
   ],
   "source": [
    "#funcion cuadratica\n",
    "from cmath import sqrt\n",
    "\n",
    "def cuadratica1(a,b,c):\n",
    "    primero = (-b + (sqrt((b*b)-(4*a*c))))/(2*a)\n",
    "    return primero\n",
    "def cuadratica2(a,b,c):\n",
    "    primero = (-b - (sqrt((b*b)-(4*a*c))))/(2*a)\n",
    "    return primero\n",
    "a  = float(input((\"Dame el valor de a\")))\n",
    "b  = float(input((\"Dame el valor de b\")))\n",
    "c  = float(input((\"Dame el valor de c\")))\n",
    "\n",
    "print(\"X1 es igual a \",cuadratica1(a,b,c))\n",
    "print(\"X2 es igual a \",cuadratica2(a,b,c))\n",
    "\n"
   ]
  }
 ],
 "metadata": {
  "kernelspec": {
   "display_name": "Python 3.6.13 ('python_fundamentals')",
   "language": "python",
   "name": "python3"
  },
  "language_info": {
   "codemirror_mode": {
    "name": "ipython",
    "version": 3
   },
   "file_extension": ".py",
   "mimetype": "text/x-python",
   "name": "python",
   "nbconvert_exporter": "python",
   "pygments_lexer": "ipython3",
   "version": "3.6.13"
  },
  "vscode": {
   "interpreter": {
    "hash": "7e81c2e367518bbb0112c35d00387cbdac47bc4c8478dc0a2040d176b2b897ff"
   }
  }
 },
 "nbformat": 4,
 "nbformat_minor": 5
}
